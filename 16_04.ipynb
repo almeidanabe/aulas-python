{
  "cells": [
    {
      "cell_type": "markdown",
      "metadata": {
        "id": "view-in-github",
        "colab_type": "text"
      },
      "source": [
        "<a href=\"https://colab.research.google.com/github/almeidanabe/aulas-python/blob/main/16_04.ipynb\" target=\"_parent\"><img src=\"https://colab.research.google.com/assets/colab-badge.svg\" alt=\"Open In Colab\"/></a>"
      ]
    },
    {
      "cell_type": "markdown",
      "metadata": {
        "id": "dfgc0m9WrJN8"
      },
      "source": [
        "Escreva uma programa que pergunte a distância que um passageiro deseja percorrer em km. Calcule o preço da passagem, cobrando R$0.50 por km para viagens até 200 km, R$0.45 para viagens entre 200 e 400 km e para viagens mais longas será cobrado R$0.35 por km. O programa só deve ser encerrado quando o usuário escrever 'sair'."
      ]
    },
    {
      "cell_type": "code",
      "execution_count": 1,
      "metadata": {
        "colab": {
          "base_uri": "https://localhost:8080/"
        },
        "id": "3agdLiibrBmy",
        "outputId": "6f2c5747-ced1-4cec-f486-82ae134fcf33"
      },
      "outputs": [
        {
          "output_type": "stream",
          "name": "stdout",
          "text": [
            "Digite a Distancia(SAIR para parar): 45\n",
            "Sua Distanica é 45.0\n",
            "Sua passagem custa: 22.5\n",
            "Digite a Distancia(SAIR para parar): 201\n",
            "Sua Distanica é 201.0\n",
            "Sua passagem custa: 90.45\n",
            "Digite a Distancia(SAIR para parar): 490\n",
            "Sua Distanica é 490.0\n",
            "Sua passagem custa: 171.5\n",
            "Digite a Distancia(SAIR para parar): sair\n",
            "Bye\n"
          ]
        }
      ],
      "source": [
        "while True:\n",
        "  dist = input(\"Digite a Distancia(SAIR para parar): \")\n",
        "  try:\n",
        "    if dist.capitalize() == \"Sair\": #Lower para tudo minusculo, Upper pra tudo maisculo e capitalize pra quando tiver as 2\n",
        "      print(\"Bye\")\n",
        "      break\n",
        "    else:\n",
        "      dist = float(dist)\n",
        "\n",
        "    if dist <= 200:\n",
        "        passagem = (dist * 0.50)\n",
        "    elif (dist > 200) & (dist <= 400):\n",
        "      passagem = (dist * 0.45)\n",
        "    elif dist > 400:\n",
        "      passagem = (dist * 0.35)\n",
        "    print(f\"Sua Distanica é {dist}\\nSua passagem custa: {passagem}\")\n",
        "  except:\n",
        "    print(\"Valor invalido\")"
      ]
    }
  ],
  "metadata": {
    "colab": {
      "provenance": [],
      "authorship_tag": "ABX9TyMpqOwkt0GOqBJs0wxHU3yg",
      "include_colab_link": true
    },
    "kernelspec": {
      "display_name": "Python 3",
      "name": "python3"
    },
    "language_info": {
      "name": "python"
    }
  },
  "nbformat": 4,
  "nbformat_minor": 0
}