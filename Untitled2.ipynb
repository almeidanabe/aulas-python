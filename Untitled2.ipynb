{
  "cells": [
    {
      "cell_type": "markdown",
      "metadata": {
        "id": "view-in-github",
        "colab_type": "text"
      },
      "source": [
        "<a href=\"https://colab.research.google.com/github/almeidanabe/aulas-python/blob/main/Untitled2.ipynb\" target=\"_parent\"><img src=\"https://colab.research.google.com/assets/colab-badge.svg\" alt=\"Open In Colab\"/></a>"
      ]
    },
    {
      "cell_type": "markdown",
      "metadata": {
        "id": "dfgc0m9WrJN8"
      },
      "source": [
        "Escreva uma programa que pergunte a distância que um passageiro deseja percorrer em km. Calcule o preço da passagem, cobrando R$0.50 por km para viagens até 200 km, R$0.45 para viagens entre 200 e 400 km e para viagens mais longas será cobrado R$0.35 por km. O programa só deve ser encerrado quando o usuário escrever 'sair'."
      ]
    },
    {
      "cell_type": "code",
      "execution_count": null,
      "metadata": {
        "colab": {
          "background_save": true,
          "base_uri": "https://localhost:8080/"
        },
        "id": "3agdLiibrBmy",
        "outputId": "f44726cf-e1fe-4f8c-b8e0-0907b39fb9c0"
      },
      "outputs": [
        {
          "name": "stdout",
          "output_type": "stream",
          "text": [
            "o valor da passagem foi:  180.0\n",
            "o valor da passagem foi:  535.0\n"
          ]
        }
      ],
      "source": [
        "while True:\n",
        "  distância = input(\"digite a distância percorrida: \")\n",
        "  try:\n",
        "      if distância.\n",
        "\n",
        "\n",
        "  if distância < 200:\n",
        "    nova_distancia = distância * 0.50\n",
        "  elif distância > 200 and distância <= 400:\n",
        "    nova_distancia = distância * 0.45\n",
        "\n",
        "  amais = distância - 400\n",
        "\n",
        "  if distância > 400:\n",
        "    nova_distancia = amais * 0.35 + distância\n",
        "\n",
        "  print(\"o valor da passagem foi: \", nova_distancia)\n"
      ]
    }
  ],
  "metadata": {
    "colab": {
      "provenance": [],
      "authorship_tag": "ABX9TyM7J/jqXPmSBSS8dAd6UAQK",
      "include_colab_link": true
    },
    "kernelspec": {
      "display_name": "Python 3",
      "name": "python3"
    },
    "language_info": {
      "name": "python"
    }
  },
  "nbformat": 4,
  "nbformat_minor": 0
}